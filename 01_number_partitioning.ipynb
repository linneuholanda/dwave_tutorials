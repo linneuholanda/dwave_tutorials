{
 "cells": [
  {
   "cell_type": "markdown",
   "metadata": {},
   "source": [
    "# Number partitioning\n",
    "\n",
    "In this notebook we study the general problem of number partitioning. The goal of this discrete optimization problem is to partition a set $S$ of $N$ positive numbers, $S = \\{s_1,\\dots,s_N\\}$ into two disjoint subsets $R$ and $S-R$ whose elements add to the same value,\n",
    "\n",
    "\\begin{equation}\n",
    "\\sum_{s\\in R} s = \\sum_{s\\in S-R} s. \n",
    "\\end{equation}\n",
    "\n",
    "Its decision form, i.e., \"is there a partition of $S$ such that the elements R and S-R have the same sum?\" is NP-complete. \n",
    "\n",
    "## Ising formulation\n",
    "Consider the following Ising Hamiltonian. \n",
    "\n",
    "\\begin{equation}\n",
    "H = A\\bigg(\\sum_{i=1}^N n_i s_i\\bigg)^2, \\qquad s_i = \\pm 1.\n",
    "\\end{equation}\n",
    "\n",
    "If there is a solution to this partitioning problem, then the ground state energy of the Hamiltonian above is zero and, conversely, if the ground energy of the Hamiltonian above is zero, the sets $R = \\{n_i\\in S |s_i=1\\}$ and $S-R = \\{n_i\\in S |s_i=-1\\}$  is a solution to this partitioning problem. Thus this problem can very easily be framed in terms of an Ising model. Expanding the above equation, and noting that $s_i^2 = 1$, we get\n",
    "\n",
    "\\begin{equation}\n",
    "H = A\\bigg(\\sum_{j>i}^N 2n_in_j s_is_j\\bigg)+ AB\n",
    "\\end{equation}\n",
    "\n",
    "with \n",
    "\n",
    "\\begin{equation}\n",
    "B = \\sum_{i=1}^N n_i^2\n",
    "\\end{equation}\n",
    "\n",
    "\n",
    "\n",
    "We refer the reader to [Lucas](https://www.frontiersin.org/articles/10.3389/fphy.2014.00005/full) for a discussion of the Ising implementation of this problem. Below We code a function that returns the symmetric, quadratic form $n_in_j$ as a dictionary."
   ]
  },
  {
   "cell_type": "code",
   "execution_count": 38,
   "metadata": {},
   "outputs": [],
   "source": [
    "def get_quadratic(int_array,scale=1):\n",
    "    int_array = np.sort(int_array)\n",
    "    quadratic = {(i,j): scale*2*n_i*n_j for j, n_j in enumerate(int_array) for i, n_i in enumerate(int_array) if j>i}\n",
    "    offset = scale*np.sum(int_array**2)\n",
    "    return offset, quadratic "
   ]
  },
  {
   "cell_type": "markdown",
   "metadata": {},
   "source": [
    "## Classical implementation\n",
    "\n",
    "We start with the classical implementation using the [dimod](https://docs.ocean.dwavesys.com/projects/dimod/en/master/reference/index.html) module. Let us consider the simple case where $S = \\{0,1,2,3,4,5,6,7,8,9,10,11\\}$. It is clear that a solution exists, for example $R = \\{0,2,4,7,9,11\\}$ and $S-R = \\{1,3,5,6,8,10\\}$."
   ]
  },
  {
   "cell_type": "code",
   "execution_count": 39,
   "metadata": {},
   "outputs": [],
   "source": [
    "#linear = {0:0, 1:1, 2:2, 3:3, 4:4, 5:5, 6:6, 7:7, 8:8, 9:9, 10:10, 11:11}\n",
    "linear = {}\n",
    "S = [0,1,2,3,4,5,6,7,8,9,10,11]\n",
    "offset,quadratic = get_quadratic(S)\n",
    "vartype = dimod.Vartype.SPIN\n",
    "ham = dimod.BinaryQuadraticModel(linear,quadratic,offset,dimod.Vartype.SPIN)\n",
    "\n"
   ]
  },
  {
   "cell_type": "markdown",
   "metadata": {},
   "source": [
    "#### Solving with exact sampler\n",
    "The dimod module uses [samplers](https://docs.ocean.dwavesys.com/en/latest/docs_dimod/intro/intro_samplers.html#) to find the optimal solution of a binary optimization problem. As an example, let us find the optimal partition of $S = \\{0,1,2,3,4,5,6,7,8,9,10,11\\}$ using the `ExactSolver` sampler."
   ]
  },
  {
   "cell_type": "code",
   "execution_count": 41,
   "metadata": {},
   "outputs": [],
   "source": [
    "def sample(ham,sampler=None, ascending=True,sample_kw=None):\n",
    "    if sampler is None:\n",
    "        sampler = dimod.ExactSolver()\n",
    "    df = sampler.sample(ham).to_pandas_dataframe() \n",
    "    df.sort_values(by=['energy'], axis=0,ascending=ascending,inplace=True)\n",
    "    return df\n",
    "    \n",
    "    \n",
    "    "
   ]
  },
  {
   "cell_type": "markdown",
   "metadata": {},
   "source": [
    "#### sampling"
   ]
  },
  {
   "cell_type": "code",
   "execution_count": 45,
   "metadata": {},
   "outputs": [
    {
     "name": "stdout",
     "output_type": "stream",
     "text": [
      "CPU times: user 10 ms, sys: 951 µs, total: 11 ms\n",
      "Wall time: 6.37 ms\n"
     ]
    },
    {
     "data": {
      "text/html": [
       "<div>\n",
       "<style scoped>\n",
       "    .dataframe tbody tr th:only-of-type {\n",
       "        vertical-align: middle;\n",
       "    }\n",
       "\n",
       "    .dataframe tbody tr th {\n",
       "        vertical-align: top;\n",
       "    }\n",
       "\n",
       "    .dataframe thead th {\n",
       "        text-align: right;\n",
       "    }\n",
       "</style>\n",
       "<table border=\"1\" class=\"dataframe\">\n",
       "  <thead>\n",
       "    <tr style=\"text-align: right;\">\n",
       "      <th></th>\n",
       "      <th>0</th>\n",
       "      <th>1</th>\n",
       "      <th>2</th>\n",
       "      <th>3</th>\n",
       "      <th>4</th>\n",
       "      <th>5</th>\n",
       "      <th>6</th>\n",
       "      <th>7</th>\n",
       "      <th>8</th>\n",
       "      <th>9</th>\n",
       "      <th>10</th>\n",
       "      <th>11</th>\n",
       "      <th>energy</th>\n",
       "      <th>num_occurrences</th>\n",
       "    </tr>\n",
       "  </thead>\n",
       "  <tbody>\n",
       "    <tr>\n",
       "      <th>1864</th>\n",
       "      <td>-1</td>\n",
       "      <td>-1</td>\n",
       "      <td>1</td>\n",
       "      <td>1</td>\n",
       "      <td>-1</td>\n",
       "      <td>1</td>\n",
       "      <td>1</td>\n",
       "      <td>1</td>\n",
       "      <td>-1</td>\n",
       "      <td>-1</td>\n",
       "      <td>1</td>\n",
       "      <td>-1</td>\n",
       "      <td>0.0</td>\n",
       "      <td>1</td>\n",
       "    </tr>\n",
       "    <tr>\n",
       "      <th>1263</th>\n",
       "      <td>-1</td>\n",
       "      <td>-1</td>\n",
       "      <td>-1</td>\n",
       "      <td>1</td>\n",
       "      <td>1</td>\n",
       "      <td>-1</td>\n",
       "      <td>-1</td>\n",
       "      <td>1</td>\n",
       "      <td>-1</td>\n",
       "      <td>1</td>\n",
       "      <td>1</td>\n",
       "      <td>-1</td>\n",
       "      <td>0.0</td>\n",
       "      <td>1</td>\n",
       "    </tr>\n",
       "    <tr>\n",
       "      <th>3317</th>\n",
       "      <td>1</td>\n",
       "      <td>1</td>\n",
       "      <td>1</td>\n",
       "      <td>1</td>\n",
       "      <td>-1</td>\n",
       "      <td>-1</td>\n",
       "      <td>-1</td>\n",
       "      <td>1</td>\n",
       "      <td>-1</td>\n",
       "      <td>1</td>\n",
       "      <td>-1</td>\n",
       "      <td>1</td>\n",
       "      <td>0.0</td>\n",
       "      <td>1</td>\n",
       "    </tr>\n",
       "    <tr>\n",
       "      <th>3316</th>\n",
       "      <td>-1</td>\n",
       "      <td>1</td>\n",
       "      <td>1</td>\n",
       "      <td>1</td>\n",
       "      <td>-1</td>\n",
       "      <td>-1</td>\n",
       "      <td>-1</td>\n",
       "      <td>1</td>\n",
       "      <td>-1</td>\n",
       "      <td>1</td>\n",
       "      <td>-1</td>\n",
       "      <td>1</td>\n",
       "      <td>0.0</td>\n",
       "      <td>1</td>\n",
       "    </tr>\n",
       "    <tr>\n",
       "      <th>2114</th>\n",
       "      <td>1</td>\n",
       "      <td>1</td>\n",
       "      <td>-1</td>\n",
       "      <td>-1</td>\n",
       "      <td>-1</td>\n",
       "      <td>1</td>\n",
       "      <td>1</td>\n",
       "      <td>-1</td>\n",
       "      <td>-1</td>\n",
       "      <td>-1</td>\n",
       "      <td>1</td>\n",
       "      <td>1</td>\n",
       "      <td>0.0</td>\n",
       "      <td>1</td>\n",
       "    </tr>\n",
       "    <tr>\n",
       "      <th>...</th>\n",
       "      <td>...</td>\n",
       "      <td>...</td>\n",
       "      <td>...</td>\n",
       "      <td>...</td>\n",
       "      <td>...</td>\n",
       "      <td>...</td>\n",
       "      <td>...</td>\n",
       "      <td>...</td>\n",
       "      <td>...</td>\n",
       "      <td>...</td>\n",
       "      <td>...</td>\n",
       "      <td>...</td>\n",
       "      <td>...</td>\n",
       "      <td>...</td>\n",
       "    </tr>\n",
       "    <tr>\n",
       "      <th>2</th>\n",
       "      <td>1</td>\n",
       "      <td>1</td>\n",
       "      <td>-1</td>\n",
       "      <td>-1</td>\n",
       "      <td>-1</td>\n",
       "      <td>-1</td>\n",
       "      <td>-1</td>\n",
       "      <td>-1</td>\n",
       "      <td>-1</td>\n",
       "      <td>-1</td>\n",
       "      <td>-1</td>\n",
       "      <td>-1</td>\n",
       "      <td>4096.0</td>\n",
       "      <td>1</td>\n",
       "    </tr>\n",
       "    <tr>\n",
       "      <th>2731</th>\n",
       "      <td>-1</td>\n",
       "      <td>1</td>\n",
       "      <td>1</td>\n",
       "      <td>1</td>\n",
       "      <td>1</td>\n",
       "      <td>1</td>\n",
       "      <td>1</td>\n",
       "      <td>1</td>\n",
       "      <td>1</td>\n",
       "      <td>1</td>\n",
       "      <td>1</td>\n",
       "      <td>1</td>\n",
       "      <td>4356.0</td>\n",
       "      <td>1</td>\n",
       "    </tr>\n",
       "    <tr>\n",
       "      <th>2730</th>\n",
       "      <td>1</td>\n",
       "      <td>1</td>\n",
       "      <td>1</td>\n",
       "      <td>1</td>\n",
       "      <td>1</td>\n",
       "      <td>1</td>\n",
       "      <td>1</td>\n",
       "      <td>1</td>\n",
       "      <td>1</td>\n",
       "      <td>1</td>\n",
       "      <td>1</td>\n",
       "      <td>1</td>\n",
       "      <td>4356.0</td>\n",
       "      <td>1</td>\n",
       "    </tr>\n",
       "    <tr>\n",
       "      <th>1</th>\n",
       "      <td>1</td>\n",
       "      <td>-1</td>\n",
       "      <td>-1</td>\n",
       "      <td>-1</td>\n",
       "      <td>-1</td>\n",
       "      <td>-1</td>\n",
       "      <td>-1</td>\n",
       "      <td>-1</td>\n",
       "      <td>-1</td>\n",
       "      <td>-1</td>\n",
       "      <td>-1</td>\n",
       "      <td>-1</td>\n",
       "      <td>4356.0</td>\n",
       "      <td>1</td>\n",
       "    </tr>\n",
       "    <tr>\n",
       "      <th>0</th>\n",
       "      <td>-1</td>\n",
       "      <td>-1</td>\n",
       "      <td>-1</td>\n",
       "      <td>-1</td>\n",
       "      <td>-1</td>\n",
       "      <td>-1</td>\n",
       "      <td>-1</td>\n",
       "      <td>-1</td>\n",
       "      <td>-1</td>\n",
       "      <td>-1</td>\n",
       "      <td>-1</td>\n",
       "      <td>-1</td>\n",
       "      <td>4356.0</td>\n",
       "      <td>1</td>\n",
       "    </tr>\n",
       "  </tbody>\n",
       "</table>\n",
       "<p>4096 rows × 14 columns</p>\n",
       "</div>"
      ],
      "text/plain": [
       "      0  1  2  3  4  5  6  7  8  9  10  11  energy  num_occurrences\n",
       "1864 -1 -1  1  1 -1  1  1  1 -1 -1   1  -1     0.0                1\n",
       "1263 -1 -1 -1  1  1 -1 -1  1 -1  1   1  -1     0.0                1\n",
       "3317  1  1  1  1 -1 -1 -1  1 -1  1  -1   1     0.0                1\n",
       "3316 -1  1  1  1 -1 -1 -1  1 -1  1  -1   1     0.0                1\n",
       "2114  1  1 -1 -1 -1  1  1 -1 -1 -1   1   1     0.0                1\n",
       "...  .. .. .. .. .. .. .. .. .. ..  ..  ..     ...              ...\n",
       "2     1  1 -1 -1 -1 -1 -1 -1 -1 -1  -1  -1  4096.0                1\n",
       "2731 -1  1  1  1  1  1  1  1  1  1   1   1  4356.0                1\n",
       "2730  1  1  1  1  1  1  1  1  1  1   1   1  4356.0                1\n",
       "1     1 -1 -1 -1 -1 -1 -1 -1 -1 -1  -1  -1  4356.0                1\n",
       "0    -1 -1 -1 -1 -1 -1 -1 -1 -1 -1  -1  -1  4356.0                1\n",
       "\n",
       "[4096 rows x 14 columns]"
      ]
     },
     "execution_count": 45,
     "metadata": {},
     "output_type": "execute_result"
    }
   ],
   "source": [
    "%%time\n",
    "samples = sample(ham)\n",
    "samples"
   ]
  },
  {
   "cell_type": "code",
   "execution_count": 47,
   "metadata": {},
   "outputs": [
    {
     "data": {
      "text/plain": [
       "506"
      ]
     },
     "execution_count": 47,
     "metadata": {},
     "output_type": "execute_result"
    }
   ],
   "source": [
    "offset"
   ]
  },
  {
   "cell_type": "markdown",
   "metadata": {},
   "source": [
    "**Observations:** The `ExactSolver` exhausts the space of solutions, as is visible from from the 4096($=2^{12}$) solutions found. Evidently, the full set of solutions for a list of $N$ numbers contains $2^N$ solutions, so this exhaustive approach quickly becomes impracticable."
   ]
  },
  {
   "cell_type": "markdown",
   "metadata": {},
   "source": [
    "## Quantum implementation\n",
    "\n",
    "To run this code in aws, we need to [sign in](https://197581744476.signin.aws.amazon.com/console) with our user credentials."
   ]
  },
  {
   "cell_type": "code",
   "execution_count": null,
   "metadata": {},
   "outputs": [],
   "source": []
  },
  {
   "cell_type": "code",
   "execution_count": 46,
   "metadata": {},
   "outputs": [
    {
     "ename": "NameError",
     "evalue": "name 'ae' is not defined",
     "output_type": "error",
     "traceback": [
      "\u001b[0;31m---------------------------------------------------------------------------\u001b[0m",
      "\u001b[0;31mNameError\u001b[0m                                 Traceback (most recent call last)",
      "\u001b[0;32m<ipython-input-46-29eb52639c7b>\u001b[0m in \u001b[0;36m<module>\u001b[0;34m\u001b[0m\n\u001b[0;32m----> 1\u001b[0;31m \u001b[0mae\u001b[0m\u001b[0;34m\u001b[0m\u001b[0;34m\u001b[0m\u001b[0m\n\u001b[0m\u001b[1;32m      2\u001b[0m \u001b[0mexact_sampler\u001b[0m \u001b[0;34m=\u001b[0m \u001b[0mdimod\u001b[0m\u001b[0;34m.\u001b[0m\u001b[0mExactSolver\u001b[0m\u001b[0;34m(\u001b[0m\u001b[0;34m)\u001b[0m\u001b[0;34m\u001b[0m\u001b[0;34m\u001b[0m\u001b[0m\n\u001b[1;32m      3\u001b[0m \u001b[0mall_samples\u001b[0m \u001b[0;34m=\u001b[0m \u001b[0mexact_sampler\u001b[0m\u001b[0;34m.\u001b[0m\u001b[0msample\u001b[0m\u001b[0;34m(\u001b[0m\u001b[0mham\u001b[0m\u001b[0;34m)\u001b[0m\u001b[0;34m\u001b[0m\u001b[0;34m\u001b[0m\u001b[0m\n\u001b[1;32m      4\u001b[0m \u001b[0mlen\u001b[0m\u001b[0;34m(\u001b[0m\u001b[0mall_samples\u001b[0m\u001b[0;34m)\u001b[0m\u001b[0;34m\u001b[0m\u001b[0;34m\u001b[0m\u001b[0m\n",
      "\u001b[0;31mNameError\u001b[0m: name 'ae' is not defined"
     ]
    }
   ],
   "source": [
    "ae\n",
    "exact_sampler = dimod.ExactSolver()\n",
    "all_samples = exact_sampler.sample(ham)\n",
    "len(all_samples)"
   ]
  },
  {
   "cell_type": "code",
   "execution_count": 25,
   "metadata": {},
   "outputs": [
    {
     "data": {
      "text/plain": [
       "SampleSet(rec.array([([-1, -1, -1, -1, -1, -1, -1, -1, -1, -1, -1, -1], 2431., 1),\n",
       "           ([ 1, -1, -1, -1, -1, -1, -1, -1, -1, -1, -1, -1], 2431., 1),\n",
       "           ([ 1,  1, -1, -1, -1, -1, -1, -1, -1, -1, -1, -1], 2301., 1),\n",
       "           ...,\n",
       "           ([ 1,  1, -1, -1, -1, -1, -1, -1, -1, -1, -1,  1], 1135., 1),\n",
       "           ([ 1, -1, -1, -1, -1, -1, -1, -1, -1, -1, -1,  1], 1221., 1),\n",
       "           ([-1, -1, -1, -1, -1, -1, -1, -1, -1, -1, -1,  1], 1221., 1)],\n",
       "          dtype=[('sample', 'i1', (12,)), ('energy', '<f8'), ('num_occurrences', '<i8')]), [0, 1, 2, 3, 4, 5, 6, 7, 8, 9, 10, 11], {}, 'SPIN')"
      ]
     },
     "execution_count": 25,
     "metadata": {},
     "output_type": "execute_result"
    }
   ],
   "source": [
    "all_samples"
   ]
  },
  {
   "cell_type": "code",
   "execution_count": 12,
   "metadata": {},
   "outputs": [
    {
     "data": {
      "text/plain": [
       "['__abstractmethods__',\n",
       " '__class__',\n",
       " '__contains__',\n",
       " '__copy__',\n",
       " '__delattr__',\n",
       " '__dict__',\n",
       " '__dir__',\n",
       " '__doc__',\n",
       " '__eq__',\n",
       " '__format__',\n",
       " '__ge__',\n",
       " '__getattribute__',\n",
       " '__gt__',\n",
       " '__hash__',\n",
       " '__init__',\n",
       " '__init_subclass__',\n",
       " '__iter__',\n",
       " '__le__',\n",
       " '__len__',\n",
       " '__lt__',\n",
       " '__module__',\n",
       " '__ne__',\n",
       " '__new__',\n",
       " '__reduce__',\n",
       " '__reduce_ex__',\n",
       " '__repr__',\n",
       " '__setattr__',\n",
       " '__sizeof__',\n",
       " '__slots__',\n",
       " '__str__',\n",
       " '__subclasshook__',\n",
       " '__weakref__',\n",
       " '_abc_impl',\n",
       " '_adj',\n",
       " '_asdict',\n",
       " '_init_bqm',\n",
       " '_init_components',\n",
       " '_init_number',\n",
       " '_offset',\n",
       " '_vartype',\n",
       " 'add_interaction',\n",
       " 'add_interactions_from',\n",
       " 'add_offset',\n",
       " 'add_variable',\n",
       " 'add_variables_from',\n",
       " 'adj',\n",
       " 'base',\n",
       " 'binary',\n",
       " 'change_vartype',\n",
       " 'contract_variables',\n",
       " 'copy',\n",
       " 'degree',\n",
       " 'degrees',\n",
       " 'dtype',\n",
       " 'empty',\n",
       " 'energies',\n",
       " 'energy',\n",
       " 'fix_variable',\n",
       " 'fix_variables',\n",
       " 'flip_variable',\n",
       " 'from_coo',\n",
       " 'from_ising',\n",
       " 'from_networkx_graph',\n",
       " 'from_numpy_matrix',\n",
       " 'from_numpy_vectors',\n",
       " 'from_qubo',\n",
       " 'from_serializable',\n",
       " 'get_linear',\n",
       " 'get_quadratic',\n",
       " 'has_variable',\n",
       " 'info',\n",
       " 'iter_interactions',\n",
       " 'iter_linear',\n",
       " 'iter_neighbors',\n",
       " 'iter_quadratic',\n",
       " 'iter_variables',\n",
       " 'linear',\n",
       " 'normalize',\n",
       " 'num_interactions',\n",
       " 'num_variables',\n",
       " 'offset',\n",
       " 'quadratic',\n",
       " 'relabel_variables',\n",
       " 'relabel_variables_as_integers',\n",
       " 'remove_interaction',\n",
       " 'remove_interactions_from',\n",
       " 'remove_offset',\n",
       " 'remove_variable',\n",
       " 'remove_variables_from',\n",
       " 'scale',\n",
       " 'set_linear',\n",
       " 'set_quadratic',\n",
       " 'shape',\n",
       " 'shapeable',\n",
       " 'spin',\n",
       " 'to_coo',\n",
       " 'to_ising',\n",
       " 'to_networkx_graph',\n",
       " 'to_numpy_matrix',\n",
       " 'to_numpy_vectors',\n",
       " 'to_qubo',\n",
       " 'to_serializable',\n",
       " 'update',\n",
       " 'variables',\n",
       " 'vartype']"
      ]
     },
     "execution_count": 12,
     "metadata": {},
     "output_type": "execute_result"
    }
   ],
   "source": [
    "dir(part)"
   ]
  },
  {
   "cell_type": "code",
   "execution_count": 13,
   "metadata": {},
   "outputs": [
    {
     "ename": "TypeError",
     "evalue": "energy() missing 1 required positional argument: 'sample'",
     "output_type": "error",
     "traceback": [
      "\u001b[0;31m---------------------------------------------------------------------------\u001b[0m",
      "\u001b[0;31mTypeError\u001b[0m                                 Traceback (most recent call last)",
      "\u001b[0;32m<ipython-input-13-45cb9b64af8f>\u001b[0m in \u001b[0;36m<module>\u001b[0;34m\u001b[0m\n\u001b[0;32m----> 1\u001b[0;31m \u001b[0mpart\u001b[0m\u001b[0;34m.\u001b[0m\u001b[0menergy\u001b[0m\u001b[0;34m(\u001b[0m\u001b[0;34m)\u001b[0m\u001b[0;34m\u001b[0m\u001b[0;34m\u001b[0m\u001b[0m\n\u001b[0m",
      "\u001b[0;31mTypeError\u001b[0m: energy() missing 1 required positional argument: 'sample'"
     ]
    }
   ],
   "source": [
    "part.energy()"
   ]
  },
  {
   "cell_type": "code",
   "execution_count": 1,
   "metadata": {},
   "outputs": [
    {
     "name": "stdout",
     "output_type": "stream",
     "text": [
      "Collecting package metadata (current_repodata.json): done\n",
      "Solving environment: done\n",
      "\n",
      "## Package Plan ##\n",
      "\n",
      "  environment location: /home/rio/anaconda3/envs/dwave\n",
      "\n",
      "  added / updated specs:\n",
      "    - networkx\n",
      "\n",
      "\n",
      "The following packages will be downloaded:\n",
      "\n",
      "    package                    |            build\n",
      "    ---------------------------|-----------------\n",
      "    networkx-2.5               |             py_0         1.1 MB\n",
      "    ------------------------------------------------------------\n",
      "                                           Total:         1.1 MB\n",
      "\n",
      "The following NEW packages will be INSTALLED:\n",
      "\n",
      "  networkx           pkgs/main/noarch::networkx-2.5-py_0\n",
      "\n",
      "\n",
      "\n",
      "Downloading and Extracting Packages\n",
      "networkx-2.5         | 1.1 MB    | ##################################### | 100% \n",
      "Preparing transaction: done\n",
      "Verifying transaction: done\n",
      "Executing transaction: done\n",
      "\n",
      "Note: you may need to restart the kernel to use updated packages.\n"
     ]
    }
   ],
   "source": [
    "conda install networkx"
   ]
  },
  {
   "cell_type": "code",
   "execution_count": 9,
   "metadata": {},
   "outputs": [
    {
     "name": "stdout",
     "output_type": "stream",
     "text": [
      "CPU times: user 15 µs, sys: 0 ns, total: 15 µs\n",
      "Wall time: 17.4 µs\n"
     ]
    }
   ],
   "source": [
    "%%time\n",
    "import numpy as np\n",
    "import matplotlib.pyplot as plt\n",
    "# magic word for producing visualizations in notebook\n",
    "#%matplotlib inline\n",
    "import networkx as nx\n",
    "from collections import defaultdict\n",
    "from itertools import combinations\n",
    "import time\n",
    "import dwave_networkx as dnx\n",
    "from dimod.binary_quadratic_model import BinaryQuadraticModel\n",
    "#import dimod"
   ]
  },
  {
   "cell_type": "code",
   "execution_count": 7,
   "metadata": {},
   "outputs": [
    {
     "data": {
      "text/plain": [
       "['AdjDictBQM',\n",
       " 'BQM',\n",
       " 'BinaryQuadraticModel',\n",
       " 'Container',\n",
       " 'Iterable',\n",
       " 'Sized',\n",
       " '__all__',\n",
       " '__builtins__',\n",
       " '__cached__',\n",
       " '__doc__',\n",
       " '__file__',\n",
       " '__loader__',\n",
       " '__name__',\n",
       " '__package__',\n",
       " '__spec__',\n",
       " 'deserialize_ndarrays',\n",
       " 'inspect',\n",
       " 'iter_serialize_variables',\n",
       " 'np',\n",
       " 'serialize_ndarrays',\n",
       " 'warnings']"
      ]
     },
     "execution_count": 7,
     "metadata": {},
     "output_type": "execute_result"
    }
   ],
   "source": [
    "dir(dimod.binary_quadratic_model)"
   ]
  },
  {
   "cell_type": "code",
   "execution_count": 3,
   "metadata": {},
   "outputs": [
    {
     "name": "stdout",
     "output_type": "stream",
     "text": [
      "/home/rio/anaconda3/envs/dwave/bin/pip\n"
     ]
    }
   ],
   "source": [
    "!which pip"
   ]
  },
  {
   "cell_type": "code",
   "execution_count": 4,
   "metadata": {},
   "outputs": [
    {
     "name": "stdout",
     "output_type": "stream",
     "text": [
      "Collecting package metadata (current_repodata.json): done\n",
      "Solving environment: failed with initial frozen solve. Retrying with flexible solve.\n",
      "Collecting package metadata (repodata.json): done\n",
      "Solving environment: failed with initial frozen solve. Retrying with flexible solve.\n",
      "\n",
      "PackagesNotFoundError: The following packages are not available from current channels:\n",
      "\n",
      "  - dimod\n",
      "\n",
      "Current channels:\n",
      "\n",
      "  - https://repo.anaconda.com/pkgs/main/linux-64\n",
      "  - https://repo.anaconda.com/pkgs/main/noarch\n",
      "  - https://repo.anaconda.com/pkgs/r/linux-64\n",
      "  - https://repo.anaconda.com/pkgs/r/noarch\n",
      "\n",
      "To search for alternate channels that may provide the conda package you're\n",
      "looking for, navigate to\n",
      "\n",
      "    https://anaconda.org\n",
      "\n",
      "and use the search bar at the top of the page.\n",
      "\n",
      "\n",
      "\n",
      "Note: you may need to restart the kernel to use updated packages.\n"
     ]
    }
   ],
   "source": [
    "conda install dimod"
   ]
  },
  {
   "cell_type": "code",
   "execution_count": 5,
   "metadata": {},
   "outputs": [
    {
     "name": "stdout",
     "output_type": "stream",
     "text": [
      "Requirement already satisfied: dimod in /home/rio/anaconda3/envs/dwave/lib/python3.8/site-packages (0.9.13)\n",
      "Requirement already satisfied: numpy<2.0.0,>=1.17.3 in /home/rio/anaconda3/envs/dwave/lib/python3.8/site-packages (from dimod) (1.19.2)\n"
     ]
    }
   ],
   "source": [
    "! pip install dimod"
   ]
  },
  {
   "cell_type": "code",
   "execution_count": null,
   "metadata": {},
   "outputs": [],
   "source": []
  }
 ],
 "metadata": {
  "kernelspec": {
   "display_name": "dwave",
   "language": "python",
   "name": "dwave"
  },
  "language_info": {
   "codemirror_mode": {
    "name": "ipython",
    "version": 3
   },
   "file_extension": ".py",
   "mimetype": "text/x-python",
   "name": "python",
   "nbconvert_exporter": "python",
   "pygments_lexer": "ipython3",
   "version": "3.8.5"
  }
 },
 "nbformat": 4,
 "nbformat_minor": 4
}
